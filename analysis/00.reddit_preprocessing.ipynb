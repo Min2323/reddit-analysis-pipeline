{
 "cells": [
  {
   "cell_type": "code",
   "execution_count": null,
   "metadata": {},
   "outputs": [],
   "source": [
    "import pandas as pd\n",
    "import re\n",
    "\n",
    "# Load the CSV files\n",
    "df1 = pd.read_csv('data/comment.csv')\n",
    "df2 = pd.read_csv('data/submission.csv', encoding='ISO-8859-1')"
   ]
  },
  {
   "cell_type": "code",
   "execution_count": 17,
   "metadata": {},
   "outputs": [],
   "source": [
    "# Extract subreddit from 'link' column using regex\n",
    "def extract_subreddit(link):\n",
    "    match = re.search(r'reddit\\.com/r/([^/]+)/', str(link))\n",
    "    return match.group(1) if match else None"
   ]
  },
  {
   "cell_type": "code",
   "execution_count": 18,
   "metadata": {},
   "outputs": [],
   "source": [
    "df1['subreddit'] = df1['link'].apply(extract_subreddit)\n",
    "df2['subreddit'] = df2['link'].apply(extract_subreddit)\n",
    "\n",
    "# Add type only to df1\n",
    "df1['type'] = 'comment'\n",
    "\n",
    "#'created' to 'created_utc' \n",
    "df1.rename(columns={'created': 'created_utc'}, inplace=True)\n",
    "df2.rename(columns={'created': 'created_utc'}, inplace=True)\n",
    "\n",
    "#  Select and align columns (now including 'score')\n",
    "df1_final = df1[['author', 'subreddit', 'body', 'created_utc', 'score', 'type']]\n",
    "df2_final = df2[['author', 'subreddit', 'body', 'created_utc', 'score', 'type']]\n",
    "\n",
    "# Merge\n",
    "merged_df = pd.concat([df1_final, df2_final], ignore_index=True)"
   ]
  },
  {
   "cell_type": "code",
   "execution_count": null,
   "metadata": {},
   "outputs": [],
   "source": [
    "merged_df.head()"
   ]
  },
  {
   "cell_type": "code",
   "execution_count": 20,
   "metadata": {},
   "outputs": [],
   "source": [
    "merged_df.to_csv('data/20250706_reddit_merged.csv', index=True)"
   ]
  },
  {
   "cell_type": "code",
   "execution_count": 22,
   "metadata": {},
   "outputs": [],
   "source": [
    "df3 =merged_df"
   ]
  },
  {
   "cell_type": "code",
   "execution_count": null,
   "metadata": {},
   "outputs": [],
   "source": [
    "df3.shape"
   ]
  },
  {
   "cell_type": "code",
   "execution_count": null,
   "metadata": {},
   "outputs": [],
   "source": [
    "# Convert the 'created_utc' column to datetime\n",
    "df3['created_utc'] = pd.to_datetime(df3['created_utc'])\n",
    "\n",
    "# Extract the year from the 'created_utc' datetime object and create a new column\n",
    "df3['year'] = df3['created_utc'].dt.year"
   ]
  },
  {
   "cell_type": "code",
   "execution_count": null,
   "metadata": {},
   "outputs": [],
   "source": [
    "import matplotlib.pyplot as plt\n",
    "plt.style.use('default')\n",
    "\n",
    "# Plot a histogram\n",
    "plt.bar(yearly_counts.index, yearly_counts.values)\n",
    "plt.xlabel('Year')\n",
    "plt.ylabel('Number of Posts')\n",
    "plt.title('Yearly Count of Posts')\n",
    "plt.xticks(yearly_counts.index, rotation=45)  \n",
    "plt.tight_layout()  \n",
    "plt.show()"
   ]
  },
  {
   "cell_type": "code",
   "execution_count": null,
   "metadata": {},
   "outputs": [],
   "source": [
    "#duplication removal\n",
    "df3 = df3.drop_duplicates(subset=['body'])\n",
    "df3.shape\n",
    "#no rows are removed\n"
   ]
  },
  {
   "cell_type": "code",
   "execution_count": null,
   "metadata": {},
   "outputs": [],
   "source": [
    "#null value removal. \n",
    "df3 = df3.dropna(subset=['created_utc','body'])\n",
    "df3.shape\n",
    "# 2,434 rows are removed"
   ]
  },
  {
   "cell_type": "code",
   "execution_count": 34,
   "metadata": {},
   "outputs": [],
   "source": [
    "# Replace '[deleted]' or 'NA' with an empty string\n",
    "df3.replace({'\\[deleted\\]': '', '\\\\bNA\\\\b': ''}, regex=True, inplace=True)"
   ]
  },
  {
   "cell_type": "code",
   "execution_count": null,
   "metadata": {},
   "outputs": [],
   "source": [
    "df3.shape"
   ]
  },
  {
   "cell_type": "code",
   "execution_count": 40,
   "metadata": {},
   "outputs": [],
   "source": [
    "#Exlcuding if the body contains strings less than 5 characters\n",
    "df3 = df3[df3['body'].str.len() >= 5]"
   ]
  },
  {
   "cell_type": "code",
   "execution_count": null,
   "metadata": {},
   "outputs": [],
   "source": [
    "df3.shape\n",
    "#18 rows are romoved"
   ]
  },
  {
   "cell_type": "code",
   "execution_count": 42,
   "metadata": {},
   "outputs": [],
   "source": [
    "#converting all body of text to lower cases\n",
    "df3['body'] = df3['body'].str.lower()"
   ]
  },
  {
   "cell_type": "code",
   "execution_count": null,
   "metadata": {},
   "outputs": [],
   "source": [
    "df3.head()"
   ]
  },
  {
   "cell_type": "code",
   "execution_count": 44,
   "metadata": {},
   "outputs": [],
   "source": [
    "#prep done\n",
    "df3.to_csv(\"results/reddit_prep.csv\",index=False)"
   ]
  }
 ],
 "metadata": {
  "kernelspec": {
   "display_name": "grad",
   "language": "python",
   "name": "python3"
  },
  "language_info": {
   "codemirror_mode": {
    "name": "ipython",
    "version": 3
   },
   "file_extension": ".py",
   "mimetype": "text/x-python",
   "name": "python",
   "nbconvert_exporter": "python",
   "pygments_lexer": "ipython3",
   "version": "3.11.11"
  }
 },
 "nbformat": 4,
 "nbformat_minor": 2
}
