{
 "cells": [
  {
   "cell_type": "code",
   "execution_count": null,
   "metadata": {},
   "outputs": [],
   "source": [
    "import pandas as pd\n",
    "import numpy as np\n",
    "import re\n",
    "\n",
    "# loads data and clean text column\n",
    "csv_path = \"results/reddit_prep.csv\"     \n",
    "df = pd.read_csv(csv_path)\n",
    "df[\"body\"] = df[\"body\"].fillna(\"\")\n",
    "df[\"char_len\"] = df[\"body\"].str.len()      "
   ]
  },
  {
   "cell_type": "code",
   "execution_count": 7,
   "metadata": {},
   "outputs": [],
   "source": [
    "# (No. of rows, char length mean(SD), unique authors)\n",
    "\n",
    "def basic_stats(sub):\n",
    "    return pd.Series({\n",
    "        \"No. of discussions scraped\": len(sub),\n",
    "        \"No. of characters, mean (SD)\": f\"{sub['char_len'].mean():.1f} ({sub['char_len'].std():.1f})\",\n",
    "        \"Unique authors\": sub[\"author\"].nunique()\n",
    "    })\n",
    "\n",
    "summary = pd.concat({\n",
    "    \"All discussions\": basic_stats(df),\n",
    "    \"Comments\":        basic_stats(df[df[\"type\"] == \"comment\"]),\n",
    "    \"Posts\":           basic_stats(df[df[\"type\"] == \"submission\"])\n",
    "}, axis=1)\n",
    "\n"
   ]
  },
  {
   "cell_type": "code",
   "execution_count": 17,
   "metadata": {},
   "outputs": [],
   "source": [
    "# keyword descriptive stats\n",
    "\n",
    "keywords = [\n",
    "    \"liraglutide\", \"victorza\", \"xultophy\", \"saxenda\",\n",
    "    \"semaglutide\", \"ozempic\", \"wegovy\",\n",
    "    \"tirzepatide\", \"mounjaro\", \"zepbound\"\n",
    "]\n",
    "\n",
    "def keyword_table(sub, total_label):\n",
    "    total_n = len(sub)\n",
    "    records = []\n",
    "    for kw in keywords:\n",
    "        mask = sub[\"body\"].str.contains(fr\"\\b{re.escape(kw)}\\b\", case=False, regex=True)\n",
    "        n = mask.sum()\n",
    "        pct = n / total_n * 100 if total_n else 0\n",
    "        records.append({\"Search word\": kw, f\"{total_label} #\": n, f\"{total_label} %\": round(pct, 1)})\n",
    "    return pd.DataFrame(records)\n",
    "\n",
    "kw_all      = keyword_table(df, \"All discussions\")\n",
    "kw_comments = keyword_table(df[df[\"type\"]==\"comment\"], \"Comments\")\n",
    "kw_posts    = keyword_table(df[df[\"type\"]==\"submission\"],  \"posts\")\n",
    "\n",
    "# merge three tables\n",
    "kw_df = kw_all.merge(kw_comments, on=\"Search word\").merge(kw_posts, on=\"Search word\")\n",
    "\n"
   ]
  },
  {
   "cell_type": "code",
   "execution_count": 18,
   "metadata": {},
   "outputs": [],
   "source": [
    "#  community descriptive stats\n",
    "def community_stats(sub):\n",
    "    total_n = len(sub)\n",
    "    return (\n",
    "        sub.groupby(\"subreddit\")\n",
    "           .size()\n",
    "           .sort_values(ascending=False)\n",
    "           .reset_index(name=\"Count\")\n",
    "           .assign(Percent=lambda d: (d[\"Count\"] / total_n * 100).round(1))\n",
    "    )\n",
    "\n",
    "comm_all      = community_stats(df)                      \n",
    "comm_comments = community_stats(df[df[\"type\"]==\"comment\"])\n",
    "comm_posts    = community_stats(df[df[\"type\"]==\"submission\"])\n"
   ]
  },
  {
   "cell_type": "code",
   "execution_count": null,
   "metadata": {},
   "outputs": [],
   "source": [
    "# checking descriptive stats\n",
    "print(\"\\n=== Table 1. Post and Comment Summary Statistics ===\")\n",
    "print(summary)\n",
    "\n",
    "print(\"\\n=== Table 2. GLP-1 Agonist Keyword Occurrences ===\")\n",
    "print(kw_df)\n",
    "\n",
    "print(\"\\n=== Table 3. Top 20 Subreddits (All discussions) ===\")\n",
    "print(comm_all.head(20))"
   ]
  },
  {
   "cell_type": "code",
   "execution_count": 21,
   "metadata": {},
   "outputs": [],
   "source": [
    "# save tables\n",
    "summary.to_csv(\"tables/table1_summary.csv\")\n",
    "kw_df.to_csv(\"tables/table2_keywords.csv\", index=False)\n",
    "comm_all.to_csv(\"tables/table3_communities_all.csv\", index=False)"
   ]
  }
 ],
 "metadata": {
  "kernelspec": {
   "display_name": "reddit",
   "language": "python",
   "name": "python3"
  },
  "language_info": {
   "codemirror_mode": {
    "name": "ipython",
    "version": 3
   },
   "file_extension": ".py",
   "mimetype": "text/x-python",
   "name": "python",
   "nbconvert_exporter": "python",
   "pygments_lexer": "ipython3",
   "version": "3.10.18"
  }
 },
 "nbformat": 4,
 "nbformat_minor": 2
}
